{
  "nbformat": 4,
  "nbformat_minor": 0,
  "metadata": {
    "colab": {
      "provenance": [],
      "include_colab_link": true
    },
    "kernelspec": {
      "name": "python3",
      "display_name": "Python 3"
    },
    "language_info": {
      "name": "python"
    }
  },
  "cells": [
    {
      "cell_type": "markdown",
      "metadata": {
        "id": "view-in-github",
        "colab_type": "text"
      },
      "source": [
        "<a href=\"https://colab.research.google.com/github/ReoCorreia/ADS/blob/main/1_Bowleys_skew.ipynb\" target=\"_parent\"><img src=\"https://colab.research.google.com/assets/colab-badge.svg\" alt=\"Open In Colab\"/></a>"
      ]
    },
    {
      "cell_type": "code",
      "execution_count": null,
      "metadata": {
        "id": "mRjtTipff2le"
      },
      "outputs": [],
      "source": [
        "import numpy as np\n",
        "\n",
        "def bowleys_skewness(x):\n",
        "  q1=np.percentile(x,25)\n",
        "  q2=np.percentile(x,50)\n",
        "  q3=np.percentile(x,75)\n",
        "  skew = (q1 + q3 - 2*q2)/(q3-q1)\n",
        "  return skew\n",
        "\n"
      ]
    },
    {
      "cell_type": "code",
      "source": [
        "x = np.array([2,45,36,3,12,22,5,15,10,37])\n",
        "\n",
        "bsc = bowleys_skewness(x)\n",
        "\n",
        "print(\"bowleys skewness coeff:\",bsc)"
      ],
      "metadata": {
        "colab": {
          "base_uri": "https://localhost:8080/"
        },
        "id": "R82EUrnPhLzB",
        "outputId": "bbd924b1-9846-4e01-c979-efccf7bc38c2"
      },
      "execution_count": null,
      "outputs": [
        {
          "output_type": "stream",
          "name": "stdout",
          "text": [
            "bowleys skewness coeff: 0.44761904761904764\n"
          ]
        }
      ]
    }
  ]
}
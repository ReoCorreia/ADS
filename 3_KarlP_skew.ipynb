{
  "nbformat": 4,
  "nbformat_minor": 0,
  "metadata": {
    "colab": {
      "provenance": [],
      "include_colab_link": true
    },
    "kernelspec": {
      "name": "python3",
      "display_name": "Python 3"
    },
    "language_info": {
      "name": "python"
    }
  },
  "cells": [
    {
      "cell_type": "markdown",
      "metadata": {
        "id": "view-in-github",
        "colab_type": "text"
      },
      "source": [
        "<a href=\"https://colab.research.google.com/github/ReoCorreia/ADS/blob/main/3_KarlP_skew.ipynb\" target=\"_parent\"><img src=\"https://colab.research.google.com/assets/colab-badge.svg\" alt=\"Open In Colab\"/></a>"
      ]
    },
    {
      "cell_type": "code",
      "execution_count": null,
      "metadata": {
        "id": "alReC45jk2c2"
      },
      "outputs": [],
      "source": [
        "import numpy as np\n",
        "\n",
        "def karlP_skewness(x):\n",
        "  mean = np.mean(x)\n",
        "  median = np.median(x)\n",
        "  sd = np.std(x)\n",
        "  skew = 3*(mean - median)/sd\n",
        "  return skew"
      ]
    },
    {
      "cell_type": "code",
      "source": [
        "x = np.array([10,34,20,45,22,4,11,37,8,40])\n",
        "\n",
        "kpsc=karlP_skewness(x)\n",
        "\n",
        "print(\"\",kpsc)"
      ],
      "metadata": {
        "id": "J2kX7ess46pt"
      },
      "execution_count": null,
      "outputs": []
    }
  ]
}
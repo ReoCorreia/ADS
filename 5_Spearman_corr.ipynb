{
  "nbformat": 4,
  "nbformat_minor": 0,
  "metadata": {
    "colab": {
      "provenance": [],
      "include_colab_link": true
    },
    "kernelspec": {
      "name": "python3",
      "display_name": "Python 3"
    },
    "language_info": {
      "name": "python"
    }
  },
  "cells": [
    {
      "cell_type": "markdown",
      "metadata": {
        "id": "view-in-github",
        "colab_type": "text"
      },
      "source": [
        "<a href=\"https://colab.research.google.com/github/ReoCorreia/ADS/blob/main/5_Spearman_corr.ipynb\" target=\"_parent\"><img src=\"https://colab.research.google.com/assets/colab-badge.svg\" alt=\"Open In Colab\"/></a>"
      ]
    },
    {
      "cell_type": "code",
      "execution_count": null,
      "metadata": {
        "id": "GqubT16S8zA_"
      },
      "outputs": [],
      "source": [
        "import numpy as np\n",
        "\n",
        "def spearman_correlation(x,y):\n",
        "  x_rank = np.argsort(x)  #np.argsort())\n",
        "  y_rank = np.argsort(y)  #np.argsort()\n",
        "\n",
        "  n=len(x)\n",
        "\n",
        "  p=1-6*np.sum((x_rank-y_rank)**2)/(n*(n**2-1))\n",
        "\n",
        "  return p"
      ]
    },
    {
      "cell_type": "code",
      "source": [
        "x=np.array([1,2,3,4,5])\n",
        "y=np.array([2,4,6,8,14])\n",
        "\n",
        "coeff= spearman_correlation(x,y)\n",
        "\n",
        "print(coeff)"
      ],
      "metadata": {
        "id": "SKKx-Qq4KqTc"
      },
      "execution_count": null,
      "outputs": []
    }
  ]
}
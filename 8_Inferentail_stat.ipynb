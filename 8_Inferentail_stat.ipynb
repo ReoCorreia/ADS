{
  "nbformat": 4,
  "nbformat_minor": 0,
  "metadata": {
    "colab": {
      "provenance": [],
      "authorship_tag": "ABX9TyMYvMCNgMbWxjYfvcTvLV2V",
      "include_colab_link": true
    },
    "kernelspec": {
      "name": "python3",
      "display_name": "Python 3"
    },
    "language_info": {
      "name": "python"
    }
  },
  "cells": [
    {
      "cell_type": "markdown",
      "metadata": {
        "id": "view-in-github",
        "colab_type": "text"
      },
      "source": [
        "<a href=\"https://colab.research.google.com/github/ReoCorreia/ADS/blob/main/8_Inferentail_stat.ipynb\" target=\"_parent\"><img src=\"https://colab.research.google.com/assets/colab-badge.svg\" alt=\"Open In Colab\"/></a>"
      ]
    },
    {
      "cell_type": "code",
      "execution_count": 1,
      "metadata": {
        "colab": {
          "base_uri": "https://localhost:8080/"
        },
        "id": "f1bmJvwyZ5Jp",
        "outputId": "984a666f-5866-44b8-d8e5-d699c73ee16a"
      },
      "outputs": [
        {
          "output_type": "execute_result",
          "data": {
            "text/plain": [
              "(0.6779691473472598, 0.999999999932131)"
            ]
          },
          "metadata": {},
          "execution_count": 1
        }
      ],
      "source": [
        "import numpy as np\n",
        "import pandas as pd\n",
        "import matplotlib.pyplot as plt\n",
        "import scipy.stats as stats\n",
        "from statsmodels.stats.weightstats import ztest\n",
        "crops = pd.read_csv(\"Crop_recommendation.csv\")\n",
        "del crops[\"label\"]\n",
        "crops.head()\n",
        "\n",
        "\n",
        "\n",
        "ztest(crops[\"N\"],crops[\"P\"],value=0)\n",
        "stats.ttest_1samp(crops[\"N\"], popmean=10)\n",
        "\n",
        "def f_test(group1, group2):\n",
        "\tf = np.var(group1, ddof=1)/np.var(group2, ddof=1)\n",
        "\tnun = group1.size-1\n",
        "\tdun = group2.size-1\n",
        "\tp_value = 1-stats.f.cdf(f, nun, dun)\n",
        "\treturn f, p_value\n",
        "\n",
        "# perform F-test\n",
        "x = crops[\"temperature\"][:1100]\n",
        "y = crops[\"temperature\"][1100:]\n",
        "f_test(x, y)"
      ]
    }
  ]
}